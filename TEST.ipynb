{
 "cells": [
  {
   "cell_type": "code",
   "execution_count": 575,
   "metadata": {},
   "outputs": [
    {
     "name": "stdout",
     "output_type": "stream",
     "text": [
      "(7, 7), (7, 6) -> Best Action: UP\n",
      "Values: [11.222221    0.10212121  1.11111     0.98525831 -0.78787879 -4.78777778]\n",
      "\n",
      "(7, 7), (6, 7) -> Best Action: LEFT\n",
      "Values: [ 1.22121212 -9.81086681  1.2111     21.1121001   0.22221221 -3.77777778]\n",
      "\n",
      "(7, 7), (7, 8) -> Best Action: DOWN\n",
      "Values: [-19.77590787   1.22212121  11.222111     1.22121212   0.52199666\n",
      "  -3.81774437]\n",
      "\n",
      "(7, 7), (8, 7) -> Best Action: RIGHT\n",
      "Values: [  1.12222161  10.001        0.11111111 -20.99878788  -1.\n",
      "  -3.9       ]\n",
      "\n",
      "(7, 7), None -> Best Action: DOWN\n",
      "Values: [ 9.99999998e-09  1.11111111e-01  1.11111111e-01  1.11111111e-01\n",
      " -8.88888889e-01 -4.88575240e+00]\n",
      "\n"
     ]
    }
   ],
   "source": [
    "import pickle\n",
    "import numpy as np\n",
    "\n",
    "ACTIONS = ['UP', 'RIGHT', 'DOWN', 'LEFT', 'WAIT', 'BOMB']\n",
    "\n",
    "with open(\"agent_code/MY_AGENT/my-saved-model.pt\", \"rb\") as file:\n",
    "    dict = pickle.load(file)\n",
    "\n",
    "for (first_tuple, second_tuple), values in dict.items():\n",
    "    if first_tuple == (7, 7):\n",
    "        print(f\"{first_tuple}, {second_tuple} -> Best Action: {ACTIONS[np.argmax(values)]}\")\n",
    "        print(f\"Values: {values}\")\n",
    "        print()\n"
   ]
  }
 ],
 "metadata": {
  "kernelspec": {
   "display_name": "Python 3",
   "language": "python",
   "name": "python3"
  },
  "language_info": {
   "codemirror_mode": {
    "name": "ipython",
    "version": 3
   },
   "file_extension": ".py",
   "mimetype": "text/x-python",
   "name": "python",
   "nbconvert_exporter": "python",
   "pygments_lexer": "ipython3",
   "version": "3.10.12"
  }
 },
 "nbformat": 4,
 "nbformat_minor": 2
}
