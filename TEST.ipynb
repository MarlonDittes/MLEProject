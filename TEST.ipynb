{
 "cells": [
  {
   "cell_type": "code",
   "execution_count": 1,
   "metadata": {},
   "outputs": [
    {
     "name": "stdout",
     "output_type": "stream",
     "text": [
      "(1, 0) -> Best Action: RIGHT\n",
      "Values: [-2.0637815   2.12253723 -0.51908872 -6.98741543 -0.78568121 -0.76207937]\n",
      "\n",
      "(0, -1) -> Best Action: UP\n",
      "Values: [ 2.00216637 -0.43485859 -0.96929868 -0.00297036 -0.80557641 -0.77649274]\n",
      "\n",
      "(-1, 0) -> Best Action: LEFT\n",
      "Values: [-1.14455717 -0.7845567  -0.45618913  2.18713104 -0.78524042 -0.77424616]\n",
      "\n",
      "(0, 1) -> Best Action: DOWN\n",
      "Values: [-4.69884005  0.11531721  2.05577786 -0.01354892 -0.86880881 -0.80931838]\n",
      "\n",
      "(0, 0) -> Best Action: BOMB\n",
      "Values: [0.58707749 1.50217253 1.17704881 1.32796476 2.27518232 2.88700154]\n",
      "\n"
     ]
    }
   ],
   "source": [
    "import pickle\n",
    "import numpy as np\n",
    "\n",
    "ACTIONS = ['UP', 'RIGHT', 'DOWN', 'LEFT', 'WAIT', 'BOMB']\n",
    "\n",
    "with open(\"agent_code/my_simple_coin_collector/model.pt\", \"rb\") as file:\n",
    "    dict = pickle.load(file)\n",
    "\n",
    "for first_tuple, values in dict.items():\n",
    "    print(f\"{first_tuple} -> Best Action: {ACTIONS[np.argmax(values)]}\")\n",
    "    print(f\"Values: {values}\")\n",
    "    print()\n"
   ]
  }
 ],
 "metadata": {
  "kernelspec": {
   "display_name": "Python 3",
   "language": "python",
   "name": "python3"
  },
  "language_info": {
   "codemirror_mode": {
    "name": "ipython",
    "version": 3
   },
   "file_extension": ".py",
   "mimetype": "text/x-python",
   "name": "python",
   "nbconvert_exporter": "python",
   "pygments_lexer": "ipython3",
   "version": "3.10.12"
  }
 },
 "nbformat": 4,
 "nbformat_minor": 2
}
