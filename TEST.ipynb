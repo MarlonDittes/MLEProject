{
 "cells": [
  {
   "cell_type": "code",
   "execution_count": 255,
   "metadata": {},
   "outputs": [
    {
     "name": "stdout",
     "output_type": "stream",
     "text": [
      "(0, 0) -> Best Action: WAIT\n",
      "Values: [1.2925859  0.64433115 0.2387184  1.46469114 2.21250097 1.71366616]\n",
      "\n",
      "(0, 1) -> Best Action: DOWN\n",
      "Values: [-3.95113577 -1.37849957  2.16841914  0.0079126  -0.54231662 -0.58181957]\n",
      "\n",
      "(1, 0) -> Best Action: RIGHT\n",
      "Values: [-0.87454606  2.19459781 -0.29120118 -4.1598094  -0.54657611 -0.47777974]\n",
      "\n",
      "(0, -1) -> Best Action: UP\n",
      "Values: [ 2.11359074 -0.03496251 -0.94210586 -0.36370056 -0.45273828 -0.40052677]\n",
      "\n",
      "(-1, 0) -> Best Action: LEFT\n",
      "Values: [-0.79578221  0.03639018 -0.87259811  2.14147237 -0.54161261 -0.32463798]\n",
      "\n"
     ]
    }
   ],
   "source": [
    "import pickle\n",
    "import numpy as np\n",
    "\n",
    "ACTIONS = ['UP', 'RIGHT', 'DOWN', 'LEFT', 'WAIT', 'BOMB']\n",
    "\n",
    "with open(\"agent_code/my_simple_coin_collector/model.pt\", \"rb\") as file:\n",
    "    dict = pickle.load(file)\n",
    "\n",
    "for first_tuple, values in dict.items():\n",
    "    print(f\"{first_tuple} -> Best Action: {ACTIONS[np.argmax(values)]}\")\n",
    "    print(f\"Values: {values}\")\n",
    "    print()\n"
   ]
  }
 ],
 "metadata": {
  "kernelspec": {
   "display_name": "Python 3",
   "language": "python",
   "name": "python3"
  },
  "language_info": {
   "codemirror_mode": {
    "name": "ipython",
    "version": 3
   },
   "file_extension": ".py",
   "mimetype": "text/x-python",
   "name": "python",
   "nbconvert_exporter": "python",
   "pygments_lexer": "ipython3",
   "version": "3.10.12"
  }
 },
 "nbformat": 4,
 "nbformat_minor": 2
}
